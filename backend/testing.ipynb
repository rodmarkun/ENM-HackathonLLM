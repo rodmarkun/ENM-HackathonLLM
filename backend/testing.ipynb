{
 "cells": [
  {
   "cell_type": "code",
   "execution_count": 1,
   "metadata": {},
   "outputs": [
    {
     "name": "stdout",
     "output_type": "stream",
     "text": [
      "Created ticket 1\n"
     ]
    }
   ],
   "source": [
    "from database import Ticket\n",
    "\n",
    "# Example 1: Create a new ticket\n",
    "new_ticket_data = {\n",
    "    \"name\": \"John Doe\",\n",
    "    \"email\": \"john@example.com\",\n",
    "    \"subject\": \"Cannot access dashboard\",\n",
    "    \"description\": \"Detailed description here\",\n",
    "    \"language\": \"en\",\n",
    "    \"category\": \"technical\",\n",
    "    \"sentiment\": \"neutral\",\n",
    "    \"strategy\": \"template\",\n",
    "    \"priority\": \"low\"\n",
    "}\n",
    "\n",
    "try:\n",
    "    ticket = Ticket.create_or_update_from_json(new_ticket_data)\n",
    "    print(f\"Created ticket {ticket.id}\")\n",
    "except ValueError as e:\n",
    "    print(f\"Error creating ticket: {e}\")"
   ]
  },
  {
   "cell_type": "code",
   "execution_count": 2,
   "metadata": {},
   "outputs": [
    {
     "name": "stdout",
     "output_type": "stream",
     "text": [
      "Updated ticket 1\n"
     ]
    }
   ],
   "source": [
    "# Example 2: Update an existing ticket\n",
    "update_data = {\n",
    "    \"status\": \"in_progress\",\n",
    "    \"description\": \"Updated description\"\n",
    "}\n",
    "\n",
    "try:\n",
    "    updated_ticket = Ticket.create_or_update_from_json(update_data, ticket_id=1)\n",
    "    print(f\"Updated ticket {updated_ticket.id}\")\n",
    "except ValueError as e:\n",
    "    print(f\"Error updating ticket: {e}\")\n",
    "\n",
    "# Get ticket as dictionary\n",
    "ticket_dict = ticket.to_dict()"
   ]
  },
  {
   "cell_type": "code",
   "execution_count": 2,
   "metadata": {},
   "outputs": [
    {
     "data": {
      "text/plain": [
       "[{'id': 1,\n",
       "  'name': 'John Doe',\n",
       "  'email': 'john@example.com',\n",
       "  'subject': 'Cannot access dashboard',\n",
       "  'description': 'Detailed description here',\n",
       "  'created_at': '2024-10-25T22:01:31.838687',\n",
       "  'updated_at': '2024-10-25T22:01:31.837686',\n",
       "  'language': 'en',\n",
       "  'status': 'open',\n",
       "  'category': 'technical',\n",
       "  'sentiment': 'neutral',\n",
       "  'strategy': 'template'}]"
      ]
     },
     "execution_count": 2,
     "metadata": {},
     "output_type": "execute_result"
    }
   ],
   "source": [
    "Ticket.get_all_tickets_as_json()"
   ]
  },
  {
   "cell_type": "code",
   "execution_count": 2,
   "metadata": {},
   "outputs": [
    {
     "name": "stdout",
     "output_type": "stream",
     "text": [
      "[[{'label': 'negative', 'score': 0.7681470513343811}, {'label': 'positive', 'score': 0.13854241371154785}, {'label': 'neutral', 'score': 0.09331050515174866}]]\n",
      "negative\n"
     ]
    }
   ],
   "source": [
    "import requests\n",
    "import constants\n",
    "\n",
    "def query(payload):\n",
    "\tresponse = requests.post(constants.SENTIMENT_ANALYSIS_MODEL, headers=constants.HF_HEADERS, json=payload)\n",
    "\treturn response.json()\n",
    "\t\n",
    "output = query({\n",
    "\t\"inputs\": \"Intenté hacer un pago con mi tarjeta de crédito, pero recibí un mensaje de error que decía 'Transacción rechazada'. Ya verifiqué que tengo saldo disponible. ¿Pueden ayudarme a solucionarlo?\",\n",
    "})\n",
    "\n",
    "print(output)\n",
    "# Sort by score and get the highest scoring label\n",
    "most_probable = max(output[0], key=lambda x: x['score'])\n",
    "    \n",
    "print(most_probable['label'])"
   ]
  },
  {
   "cell_type": "code",
   "execution_count": 1,
   "metadata": {},
   "outputs": [
    {
     "name": "stdout",
     "output_type": "stream",
     "text": [
      "('negative', 0.6660830974578857)\n"
     ]
    }
   ],
   "source": [
    "import models\n",
    "\n",
    "new_ticket_data = {\n",
    "    \"name\": \"John Doe\",\n",
    "    \"email\": \"john@example.com\",\n",
    "    \"subject\": \"Cannot access dashboard\",\n",
    "    \"description\": \"Intenté hacer un pago con mi tarjeta de crédito, pero recibí un mensaje de error que decía 'Transacción rechazada'. Ya verifiqué que tengo saldo disponible. ¿Pueden ayudarme a solucionarlo?\",\n",
    "    \"language\": \"en\",\n",
    "    \"category\": \"technical\",\n",
    "    \"sentiment\": \"neutral\",\n",
    "    \"strategy\": \"template\",\n",
    "    \"priority\": \"low\"\n",
    "}\n",
    "\n",
    "print(models.query_sentiment(new_ticket_data))"
   ]
  },
  {
   "cell_type": "code",
   "execution_count": 2,
   "metadata": {},
   "outputs": [
    {
     "name": "stdout",
     "output_type": "stream",
     "text": [
      "('spa_Latn', 0.9964954853057861)\n"
     ]
    }
   ],
   "source": [
    "import models\n",
    "print(models.query_language(new_ticket_data))"
   ]
  },
  {
   "cell_type": "code",
   "execution_count": 2,
   "metadata": {},
   "outputs": [
    {
     "data": {
      "text/plain": [
       "'ncounter issues after following these steps, please contact our dedicated support team at support@example.com or call us at 1-800-123-4567 for further assistance. Our team is available 24/7 to help you with any payment-related queries.\\n\\nWe understand that this experience may have caused some frustration, and we sincerely apologize for any inconvenience. Our team is committed to ensuring a seamless payment experience for all our users. If you have any questions or concerns, please do not hesitate to reach out to us.\\n\\nBest regards,\\n\\n[Your Name]\\nCustomer Support Specialist\\nExample Inc.'"
      ]
     },
     "execution_count": 2,
     "metadata": {},
     "output_type": "execute_result"
    }
   ],
   "source": [
    "prompt = f\"\"\"You are an experienced customer support specialist for our platform. Your role is to provide helpful, accurate, and empathetic responses to user tickets.\n",
    "\n",
    "Context and Guidelines:\n",
    "- Respond in a professional yet friendly tone\n",
    "- Address all points raised in the ticket\n",
    "- Provide specific, actionable solutions\n",
    "- Include relevant step-by-step instructions when needed\n",
    "- Express empathy for any issues or frustrations\n",
    "- Use clear, concise language\n",
    "- Maintain consistency with our platform's terminology\n",
    "\n",
    "Current Ticket Information:\n",
    "{new_ticket_data}\n",
    "\n",
    "Please craft a response that:\n",
    "1. Acknowledges the user's concern\n",
    "2. Provides a clear solution or next steps\n",
    "3. Includes any relevant troubleshooting steps\n",
    "4. Offers additional assistance if needed\n",
    "\n",
    "Response Format:\n",
    "- Start with a greeting\n",
    "- Address the main issue\n",
    "- Provide the solution\n",
    "- Close with a professional sign-off\n",
    "- Keep the tone positive and solution-focused\n",
    "\n",
    "Remember: Focus on providing accurate, helpful information while maintaining a balance between professionalism and approachability.\n",
    "\n",
    "Generate a response now:\"\"\"\n",
    "\n",
    "models.query_mistral(prompt)"
   ]
  },
  {
   "cell_type": "code",
   "execution_count": 3,
   "metadata": {},
   "outputs": [
    {
     "name": "stdout",
     "output_type": "stream",
     "text": [
      "\n",
      "None\n"
     ]
    }
   ],
   "source": [
    "import constants\n",
    "prompt = f\"\"\"You are an expert support ticket classifier for our platform. Your task is to analyze and categorize the following ticket into exactly one of these categories: {constants.TICKET_CATEGORIES}\n",
    "\n",
    "Classification Guidelines:\n",
    "- Analyze the ticket's primary issue, not secondary concerns\n",
    "- Consider key terms and context specific to each category\n",
    "- Choose the MOST relevant category if multiple could apply\n",
    "- Be consistent with categorization patterns\n",
    "\n",
    "Ticket Content:\n",
    "{new_ticket_data}\n",
    "\n",
    "Response Requirements:\n",
    "- Respond with EXACTLY ONE WORD from the provided categories\n",
    "- Use lowercase\n",
    "- No punctuation or additional text\n",
    "- Must be from the provided category list\n",
    "\n",
    "Analyze the ticket and respond with just the category name:\"\"\"\n",
    "response = models.query_mistral(prompt)\n",
    "\n",
    "def get_matching_category(response, valid_categories):\n",
    "    # Split response into words and check each against valid categories\n",
    "    words = response.lower().split()\n",
    "    for word in words:\n",
    "        if word in valid_categories:\n",
    "            return word\n",
    "    return None  # Return None if no matching category found\n",
    "\n",
    "print(response)\n",
    "\n",
    "print(get_matching_category(response, constants.TICKET_CATEGORIES))"
   ]
  }
 ],
 "metadata": {
  "kernelspec": {
   "display_name": "Python 3",
   "language": "python",
   "name": "python3"
  },
  "language_info": {
   "codemirror_mode": {
    "name": "ipython",
    "version": 3
   },
   "file_extension": ".py",
   "mimetype": "text/x-python",
   "name": "python",
   "nbconvert_exporter": "python",
   "pygments_lexer": "ipython3",
   "version": "3.10.10"
  }
 },
 "nbformat": 4,
 "nbformat_minor": 2
}
